{
  "nbformat": 4,
  "nbformat_minor": 0,
  "metadata": {
    "colab": {
      "provenance": [],
      "authorship_tag": "ABX9TyN+an7hXJh/gFIMFbeUyGjB",
      "include_colab_link": true
    },
    "kernelspec": {
      "name": "python3",
      "display_name": "Python 3"
    },
    "language_info": {
      "name": "python"
    }
  },
  "cells": [
    {
      "cell_type": "markdown",
      "metadata": {
        "id": "view-in-github",
        "colab_type": "text"
      },
      "source": [
        "<a href=\"https://colab.research.google.com/github/hhyowon/toy_pythons/blob/main/whiles_hyo.ipynb\" target=\"_parent\"><img src=\"https://colab.research.google.com/assets/colab-badge.svg\" alt=\"Open In Colab\"/></a>"
      ]
    },
    {
      "cell_type": "code",
      "source": [
        "first = 1"
      ],
      "metadata": {
        "id": "lUMFMnxIXYCc"
      },
      "execution_count": 6,
      "outputs": []
    },
    {
      "cell_type": "code",
      "source": [
        "while first < 4 :\n",
        "  print(first)\n",
        "  print('in whiling')\n",
        "  first = first + 1\n",
        "print('End')"
      ],
      "metadata": {
        "colab": {
          "base_uri": "https://localhost:8080/"
        },
        "id": "GLNQWCthYMzr",
        "outputId": "9eee8bc6-2c98-4a6b-9012-e4bfe44c6634"
      },
      "execution_count": 18,
      "outputs": [
        {
          "output_type": "stream",
          "name": "stdout",
          "text": [
            "1\n",
            "in whiling\n",
            "2\n",
            "in whiling\n",
            "3\n",
            "in whiling\n",
            "End\n"
          ]
        }
      ]
    },
    {
      "cell_type": "code",
      "source": [],
      "metadata": {
        "id": "BmQChHcOZIpD"
      },
      "execution_count": null,
      "outputs": []
    }
  ]
}