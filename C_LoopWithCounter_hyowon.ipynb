{
  "nbformat": 4,
  "nbformat_minor": 0,
  "metadata": {
    "colab": {
      "provenance": [],
      "authorship_tag": "ABX9TyPx+6aLbHubf0370gZTt0LS",
      "include_colab_link": true
    },
    "kernelspec": {
      "name": "python3",
      "display_name": "Python 3"
    },
    "language_info": {
      "name": "python"
    }
  },
  "cells": [
    {
      "cell_type": "markdown",
      "metadata": {
        "id": "view-in-github",
        "colab_type": "text"
      },
      "source": [
        "<a href=\"https://colab.research.google.com/github/hhyowon/toy_pythons/blob/main/C_LoopWithCounter_hyowon.ipynb\" target=\"_parent\"><img src=\"https://colab.research.google.com/assets/colab-badge.svg\" alt=\"Open In Colab\"/></a>"
      ]
    },
    {
      "cell_type": "markdown",
      "source": [
        "\n",
        "5까지 1씩 증가하는 값 찍기\n",
        "\n"
      ],
      "metadata": {
        "id": "Aj515g3Ltx4a"
      }
    },
    {
      "cell_type": "code",
      "execution_count": 5,
      "metadata": {
        "colab": {
          "base_uri": "https://localhost:8080/"
        },
        "id": "Zv8XaYJjttI-",
        "outputId": "2a3555cb-90dc-4b63-82fd-bfc0b28a9006"
      },
      "outputs": [
        {
          "output_type": "stream",
          "name": "stdout",
          "text": [
            "1\n",
            "2\n",
            "3\n",
            "4\n",
            "5\n",
            "End\n"
          ]
        }
      ],
      "source": [
        "count = 1   #숫자값 변수 설정\n",
        "\n",
        "while count < 6 :  # 5까지 증가하는 값 찍기 범위 설정 \n",
        "    print(count)   # 변수 값 출력 \n",
        "    count = count + 1  # 1씩 증가하는 값 찍기 위해 +1   \n",
        "print('End')       #종료 "
      ]
    },
    {
      "cell_type": "code",
      "source": [],
      "metadata": {
        "id": "2OF-UR4ZuI7a"
      },
      "execution_count": null,
      "outputs": []
    }
  ]
}